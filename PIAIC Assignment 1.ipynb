{
 "cells": [
  {
   "cell_type": "markdown",
   "metadata": {},
   "source": [
    "# 1. Calculate Area of a Cirle"
   ]
  },
  {
   "cell_type": "code",
   "execution_count": 1,
   "metadata": {},
   "outputs": [
    {
     "name": "stdout",
     "output_type": "stream",
     "text": [
      "Input Radius: 0.5\n",
      "Area of Circle with radius  0.5  is  0.7853981633974483\n"
     ]
    }
   ],
   "source": [
    "import math\n",
    "Radius = float(input(\"Input Radius: \"))\n",
    "Area =  math.pi * pow(Radius,2)\n",
    "print(\"Area of Circle with radius \",Radius,\" is \",Area )\n"
   ]
  },
  {
   "cell_type": "markdown",
   "metadata": {},
   "source": [
    "# 2. Check Number either positive,negative or zero"
   ]
  },
  {
   "cell_type": "code",
   "execution_count": 3,
   "metadata": {},
   "outputs": [
    {
     "name": "stdout",
     "output_type": "stream",
     "text": [
      "Enter Number: -5\n",
      "Negative Number Entered\n"
     ]
    }
   ],
   "source": [
    "num = int(input(\"Enter Number: \"))\n",
    "if num>0:\n",
    "    print(\"Positive Number Entered\")\n",
    "elif num<0:\n",
    "    print(\"Negative Number Entered\")\n",
    "else:\n",
    "    print(\"Zero Entered\")"
   ]
  },
  {
   "cell_type": "markdown",
   "metadata": {},
   "source": [
    "# 3. Divsibility Check of two numbers"
   ]
  },
  {
   "cell_type": "code",
   "execution_count": 4,
   "metadata": {},
   "outputs": [
    {
     "name": "stdout",
     "output_type": "stream",
     "text": [
      "Enter numerator: 6\n",
      "Enter Denominator: 8\n",
      "Number 6  is not Completely divisible by  8\n"
     ]
    }
   ],
   "source": [
    "nume = int(input(\"Enter numerator: \"))\n",
    "deno = int(input(\"Enter Denominator: \"))\n",
    "\n",
    "if nume%deno == 0:\n",
    "    print(\"Number\",nume, \" is Completely divisible by \",deno)\n",
    "else:\n",
    "    print(\"Number\",nume, \" is not Completely divisible by \",deno)"
   ]
  },
  {
   "cell_type": "markdown",
   "metadata": {},
   "source": [
    "# 4. Days Calculator"
   ]
  },
  {
   "cell_type": "code",
   "execution_count": 5,
   "metadata": {},
   "outputs": [
    {
     "name": "stdout",
     "output_type": "stream",
     "text": [
      "Enter a date in (dd/mm/yy) format: 11/10/2018\n",
      "Enter a date in (dd/mm/yy) format: 12/12/2018\n",
      "There are 61 days between  11/10/2018  and 12/12/2018\n"
     ]
    }
   ],
   "source": [
    "d1 = input(\"Enter a date in (dd/mm/yy) format: \")\n",
    "d2 = input(\"Enter a date in (dd/mm/yy) format: \")\n",
    "dd1 = int(d1[0:2])\n",
    "mm1 = int(d1[3:5])\n",
    "yy1 = int(d1[6:8])\n",
    "\n",
    "dd2 = int(d2[0:2])\n",
    "mm2 = int(d2[3:5])\n",
    "yy2 = int(d2[6:8])\n",
    "\n",
    "days= abs((dd1+(mm1*30)+(yy1*365))-(dd2+(mm2*30)+(yy2*365)))\n",
    "print(\"There are\",days,\"days between \",d1,\" and\",d2)\n"
   ]
  },
  {
   "cell_type": "markdown",
   "metadata": {},
   "source": [
    "# 5. Calculate Volume of a Sphere"
   ]
  },
  {
   "cell_type": "code",
   "execution_count": 11,
   "metadata": {},
   "outputs": [
    {
     "name": "stdout",
     "output_type": "stream",
     "text": [
      "Enter Radius of Sphere: 1\n",
      "Volume of Sphere with Radius  1  is  4.1887902047863905\n"
     ]
    }
   ],
   "source": [
    "import math\n",
    "Radius = int(input(\"Enter Radius of Sphere: \"))\n",
    "Volume = float((4/3) * math.pi * pow(Radius,3))\n",
    "print(\"Volume of Sphere with Radius \",Radius,\" is \",Volume)"
   ]
  },
  {
   "cell_type": "markdown",
   "metadata": {},
   "source": [
    "# 6. Copy String n Times"
   ]
  },
  {
   "cell_type": "code",
   "execution_count": 20,
   "metadata": {},
   "outputs": [
    {
     "name": "stdout",
     "output_type": "stream",
     "text": [
      "Enter String: hi\n",
      "How many copies of String you need: 5\n",
      "hi hi hi hi "
     ]
    }
   ],
   "source": [
    "s = input(\"Enter String: \")\n",
    "n = int(input(\"How many copies of String you need: \"))\n",
    "\n",
    "for x in range(0,n-1):\n",
    "    print(s,end=\" \")"
   ]
  },
  {
   "cell_type": "markdown",
   "metadata": {},
   "source": [
    "# 7. Check if number is Even or Odd"
   ]
  },
  {
   "cell_type": "code",
   "execution_count": 4,
   "metadata": {},
   "outputs": [
    {
     "name": "stdout",
     "output_type": "stream",
     "text": [
      "Enter Number: 18\n",
      "18  is Even\n"
     ]
    }
   ],
   "source": [
    "num = int(input(\"Enter Number: \"))\n",
    "if num%2 == 0:\n",
    "    print(num,\" is Even\")\n",
    "else:\n",
    "    print(num,\" is Odd\")"
   ]
  },
  {
   "cell_type": "markdown",
   "metadata": {},
   "source": [
    "# 8. Vowel Tester"
   ]
  },
  {
   "cell_type": "code",
   "execution_count": 57,
   "metadata": {},
   "outputs": [
    {
     "name": "stdout",
     "output_type": "stream",
     "text": [
      "Enter a character: A\n",
      "Letter  A  is a Vowel\n"
     ]
    }
   ],
   "source": [
    "c = input(\"Enter a character: \")\n",
    "\n",
    "if c == \"A\" or c == \"E\" or c == \"I\" or c == \"O\" or c == \"U\" or c == \"a\" or c == \"e\" or c == \"i\" or c == \"o\" or c == \"u\":\n",
    "    print(\"Letter \",c,\" is a Vowel\")\n",
    "else:\n",
    "    print(\"Letter \",c,\" is not a Vowel\")"
   ]
  },
  {
   "cell_type": "markdown",
   "metadata": {},
   "source": [
    "# 9. Triangle Area"
   ]
  },
  {
   "cell_type": "code",
   "execution_count": 58,
   "metadata": {},
   "outputs": [
    {
     "name": "stdout",
     "output_type": "stream",
     "text": [
      "Enter magnitude of Triangle base: 4\n",
      "Enter magnitude of Triangle height: 4\n",
      "Area of a Triangle with Height  4  and Base  4  is  8.0\n"
     ]
    }
   ],
   "source": [
    "b = int(input(\"Enter magnitude of Triangle base: \"))\n",
    "h = int(input(\"Enter magnitude of Triangle height: \"))\n",
    "Area = float(0.5 * b * h)\n",
    "print(\"Area of a Triangle with Height \",h,\" and Base \",b,\" is \",Area)"
   ]
  },
  {
   "cell_type": "markdown",
   "metadata": {},
   "source": [
    "# 10. Calculate Interest"
   ]
  },
  {
   "cell_type": "code",
   "execution_count": 4,
   "metadata": {},
   "outputs": [
    {
     "name": "stdout",
     "output_type": "stream",
     "text": [
      "Please Enter Principal Amount: 10000\n",
      "Please enter Rate of Interest in %: 0.1\n",
      "Enter number of years of investment: 5\n",
      "After  5  years your Principal amount  10000  over an interest rate of  0.1  will be  10050.100100050004\n"
     ]
    }
   ],
   "source": [
    "a = int(input(\"Please Enter Principal Amount: \"))\n",
    "i = float(input(\"Please enter Rate of Interest in %: \"))\n",
    "y = int(input(\"Enter number of years of investment: \"))\n",
    "z = 1 + (i/100)\n",
    "x = pow(z,y) * a\n",
    "print(\"After \",y,\" years your Principal amount \",a,\" over an interest rate of \",i,\" will be \",x)"
   ]
  },
  {
   "cell_type": "markdown",
   "metadata": {},
   "source": [
    "# 11. Euclidean Distance"
   ]
  },
  {
   "cell_type": "code",
   "execution_count": 6,
   "metadata": {},
   "outputs": [
    {
     "name": "stdout",
     "output_type": "stream",
     "text": [
      "Enter C-ordinate for x1: 2\n",
      "Enter C-ordinate for x2: 4\n",
      "Enter C-ordinate for y1: 4\n",
      "Enter C-ordinate for y2: 4\n",
      "Distance between points ( 2 , 4 ) and ( 4 , 4 ) is  2.0\n"
     ]
    }
   ],
   "source": [
    "import math\n",
    "x1 = int(input(\"Enter C-ordinate for x1: \"))\n",
    "x2 = int(input(\"Enter C-ordinate for x2: \"))\n",
    "y1 = int(input(\"Enter C-ordinate for y1: \"))\n",
    "y2 = int(input(\"Enter C-ordinate for y2: \"))\n",
    "\n",
    "x = abs(x1 - x2)\n",
    "y = abs(y1 - y2)\n",
    "d = math.sqrt(pow(x,2) - pow(y,2))\n",
    "print(\"Distance between points (\",x1,\",\",x2,\") and (\",y1,\",\",y2,\") is \",d)"
   ]
  },
  {
   "cell_type": "markdown",
   "metadata": {},
   "source": [
    "# 12. Feet to Centimeter Converter"
   ]
  },
  {
   "cell_type": "code",
   "execution_count": 7,
   "metadata": {},
   "outputs": [
    {
     "name": "stdout",
     "output_type": "stream",
     "text": [
      "Enter height in Feet: 5\n",
      "There are  152.4  Cm in  5  ft\n"
     ]
    }
   ],
   "source": [
    "f = int(input(\"Enter height in Feet: \"))\n",
    "cm = f * 30.48\n",
    "print(\"There are \",cm,\" Cm in \",f,\" ft\")"
   ]
  },
  {
   "cell_type": "markdown",
   "metadata": {},
   "source": [
    "# 13. BMI Converter"
   ]
  },
  {
   "cell_type": "code",
   "execution_count": 8,
   "metadata": {},
   "outputs": [
    {
     "name": "stdout",
     "output_type": "stream",
     "text": [
      "Enter Height in cm: 180\n",
      "Enter Weight in kg: 75\n",
      "Your BMI is  23.148148148148145\n"
     ]
    }
   ],
   "source": [
    "h = int(input(\"Enter Height in cm: \"))/100\n",
    "w = int(input(\"Enter Weight in kg: \"))\n",
    "BMI =  w/pow(h,2)\n",
    "print(\"Your BMI is \",BMI)"
   ]
  },
  {
   "cell_type": "markdown",
   "metadata": {},
   "source": [
    "# 14. Sum of n Positive Integer"
   ]
  },
  {
   "cell_type": "code",
   "execution_count": 13,
   "metadata": {},
   "outputs": [
    {
     "name": "stdout",
     "output_type": "stream",
     "text": [
      "Enter value of n: 5\n",
      "Sum of n Positive integers till  5  is 15\n"
     ]
    }
   ],
   "source": [
    "n = int(input(\"Enter value of n: \"))\n",
    "p = 0\n",
    "for x in range(0,n + 1):\n",
    "    p = p + x\n",
    "    \n",
    "print(\"Sum of n Positive integers till \",n,\" is\",p)"
   ]
  },
  {
   "cell_type": "markdown",
   "metadata": {},
   "source": [
    "# 15. Digits Sum of a Number"
   ]
  },
  {
   "cell_type": "code",
   "execution_count": 17,
   "metadata": {},
   "outputs": [
    {
     "name": "stdout",
     "output_type": "stream",
     "text": [
      "Enter a Number: 1234\n",
      "Sum of 1 + 2 + 3 + 4 is 10\n"
     ]
    }
   ],
   "source": [
    "num = (input(\"Enter a Number: \"))\n",
    "length = len(num)\n",
    "sum = 0\n",
    "answer = \"Sum of \"\n",
    "\n",
    "for x in range(0,length):\n",
    "    sum += int(num[x])\n",
    "    answer += str(num[x])\n",
    "    if x< int(length - 1):\n",
    "        answer += \" + \"\n",
    "    else:\n",
    "        break\n",
    "        \n",
    "answer += \" is \"\n",
    "answer += str(sum)\n",
    "print(answer)"
   ]
  },
  {
   "cell_type": "markdown",
   "metadata": {},
   "source": [
    "# 16. Decimal to Binary Converter"
   ]
  },
  {
   "cell_type": "code",
   "execution_count": 40,
   "metadata": {},
   "outputs": [
    {
     "name": "stdout",
     "output_type": "stream",
     "text": [
      "Enter a Decimal Number: 11\n",
      "Binary representatin of  11  is  1011\n"
     ]
    }
   ],
   "source": [
    "d1 = d2 = int(input(\"Enter a Decimal Number: \"))\n",
    "binary = \"\"\n",
    "rem = 0\n",
    "\n",
    "if d1 == 0:\n",
    "    binary += \"Not Possible\"\n",
    "    \n",
    "while d1 != 0:\n",
    "    rem = d1%2\n",
    "    d1 = d1//2\n",
    "    binary += str(rem)\n",
    "    if d1 == 0:\n",
    "        rem = 1\n",
    "        \n",
    "binary = binary[::-1]\n",
    "print(\"Binary representatin of \",d2,\" is \",binary)\n",
    "    \n",
    "    "
   ]
  },
  {
   "cell_type": "markdown",
   "metadata": {},
   "source": [
    "# 17. Binary to Decimal Converter"
   ]
  },
  {
   "cell_type": "code",
   "execution_count": 46,
   "metadata": {},
   "outputs": [
    {
     "name": "stdout",
     "output_type": "stream",
     "text": [
      "Enter a Binary Number: 110\n",
      "Decimal representatin of  110  is  6\n"
     ]
    }
   ],
   "source": [
    "b1 = b2 = input(\"Enter a Binary Number: \")\n",
    "b2 = b2[::-1]\n",
    "length = len(b2)\n",
    "dec = 0\n",
    "\n",
    "for x in range(0,length):\n",
    "    y = int(b2[x])\n",
    "    dec += (y * (2 ** x))\n",
    "    \n",
    "print(\"Decimal representatin of \",b1,\" is \",dec)"
   ]
  },
  {
   "cell_type": "markdown",
   "metadata": {},
   "source": [
    "# 18. Vowel and Consonants Counter"
   ]
  },
  {
   "cell_type": "code",
   "execution_count": 51,
   "metadata": {},
   "outputs": [
    {
     "name": "stdout",
     "output_type": "stream",
     "text": [
      "Enter text: PIAIC Assignment\n",
      "Vowels:  6\n",
      "Consonants:  10\n"
     ]
    }
   ],
   "source": [
    "t = str(input(\"Enter text: \"))\n",
    "length = len(t)\n",
    "vow = con = 0\n",
    "\n",
    "for c in range(0,length):\n",
    "    if t[c] == \"A\" or t[c] == \"E\" or t[c] == \"I\" or t[c] == \"O\" or t[c] == \"U\" or t[c] == \"a\" or t[c] == \"e\" or t[c] == \"i\" or t[c] == \"o\" or t[c] == \"u\":\n",
    "        vow += 1\n",
    "    else:\n",
    "        con += 1\n",
    "\n",
    "print(\"Vowels: \",vow)\n",
    "print(\"Consonants: \",con)"
   ]
  },
  {
   "cell_type": "markdown",
   "metadata": {},
   "source": [
    "# 19. Paindrome Tester"
   ]
  },
  {
   "cell_type": "code",
   "execution_count": 54,
   "metadata": {},
   "outputs": [
    {
     "name": "stdout",
     "output_type": "stream",
     "text": [
      "Enter text: Hello\n",
      "Text Hello is not Palindrom\n"
     ]
    }
   ],
   "source": [
    "text = str(input(\"Enter text: \"))\n",
    "len1 = len(text)\n",
    "len2 = len1 // 2\n",
    "\n",
    "for ch in range(0,len2):\n",
    "    if text[ch] == text[len1 - ch -1]:\n",
    "        answer = (\"is Palindrom\")\n",
    "    else:\n",
    "        answer = (\"is not Palindrom\")\n",
    "        break\n",
    "\n",
    "print(\"Text\",text,answer)"
   ]
  },
  {
   "cell_type": "markdown",
   "metadata": {},
   "source": [
    "# 20.Count Alphabets, Numbers and Specia Characters"
   ]
  },
  {
   "cell_type": "code",
   "execution_count": 52,
   "metadata": {},
   "outputs": [
    {
     "name": "stdout",
     "output_type": "stream",
     "text": [
      "Enter Text: Python 3.2\n",
      "Numbers =  2\n",
      "Alphabets =  6\n",
      "Special Characters =  1\n",
      "Spaces =  1\n"
     ]
    }
   ],
   "source": [
    "string = list(input(\"Enter Text: \"))\n",
    "length = len(string)\n",
    "num = alp = spl = spc = 0\n",
    "\n",
    "for x in range(0,length):\n",
    "    ch = string[x]\n",
    "    chk1 = ch.isalpha()\n",
    "    if chk1 == True:\n",
    "        alp += 1\n",
    "    else:\n",
    "        chk2 = ch.isnumeric()\n",
    "        if chk2 == True:\n",
    "            num += 1\n",
    "        else:\n",
    "            if ch == \" \":\n",
    "                spc += 1\n",
    "            else:\n",
    "                spl += 1\n",
    "\n",
    "print(\"Numbers = \",num)\n",
    "print(\"Alphabets = \",alp)\n",
    "print(\"Special Characters = \",spl)\n",
    "print(\"Spaces = \",spc)"
   ]
  },
  {
   "cell_type": "markdown",
   "metadata": {},
   "source": [
    "# 21. Pattern Number 1"
   ]
  },
  {
   "cell_type": "code",
   "execution_count": 60,
   "metadata": {},
   "outputs": [
    {
     "name": "stdout",
     "output_type": "stream",
     "text": [
      "Enter Range: 5\n",
      "* \n",
      "* * \n",
      "* * * \n",
      "* * * * \n",
      "* * * * * \n",
      "* * * * \n",
      "* * * \n",
      "* * \n",
      "* \n"
     ]
    }
   ],
   "source": [
    "i = \"* \"\n",
    "x = int(input(\"Enter Range: \"))\n",
    "y = 0\n",
    "\n",
    "for c in range(1,(x * 2)):\n",
    "    if c <= x:\n",
    "        print(i * c)\n",
    "    else:\n",
    "        y += 2\n",
    "        print(i * (c - y))"
   ]
  },
  {
   "cell_type": "markdown",
   "metadata": {},
   "source": [
    "# 22. Pattern Number 2"
   ]
  },
  {
   "cell_type": "code",
   "execution_count": 65,
   "metadata": {},
   "outputs": [
    {
     "name": "stdout",
     "output_type": "stream",
     "text": [
      "Enter Range: 5\n",
      "1 \n",
      "\n",
      "1 2 \n",
      "\n",
      "1 2 3 \n",
      "\n",
      "1 2 3 4 \n",
      "\n",
      "1 2 3 4 5 \n",
      "\n",
      "1 2 3 4 \n",
      "\n",
      "1 2 3 \n",
      "\n",
      "1 2 \n",
      "\n",
      "1 \n",
      "\n",
      "\n",
      "\n"
     ]
    }
   ],
   "source": [
    "x = int(input(\"Enter Range: \"))\n",
    "\n",
    "for y in range(1,(x + 1)):\n",
    "    for z in range(1,(y + 1)):\n",
    "        print(z,end = \" \")\n",
    "    print(\"\\n\")\n",
    "    \n",
    "for y in range((x + 1),1,-1):\n",
    "    for z in range(1,(y - 1)):\n",
    "        print(z,end = \" \")\n",
    "    print(\"\\n\")"
   ]
  },
  {
   "cell_type": "markdown",
   "metadata": {},
   "source": [
    "# 23. Pattern Number 3"
   ]
  },
  {
   "cell_type": "code",
   "execution_count": 68,
   "metadata": {},
   "outputs": [
    {
     "name": "stdout",
     "output_type": "stream",
     "text": [
      "Enter Range: 9\n",
      "1 \n",
      "\n",
      "2 2 \n",
      "\n",
      "3 3 3 \n",
      "\n",
      "4 4 4 4 \n",
      "\n",
      "5 5 5 5 5 \n",
      "\n",
      "6 6 6 6 6 6 \n",
      "\n",
      "7 7 7 7 7 7 7 \n",
      "\n",
      "8 8 8 8 8 8 8 8 \n",
      "\n",
      "9 9 9 9 9 9 9 9 9 \n",
      "\n"
     ]
    }
   ],
   "source": [
    "x = int(input(\"Enter Range: \"))\n",
    "\n",
    "for y in range(1,(x + 1)):\n",
    "    for z in range(1,(y + 1)):\n",
    "        print(y,end = \" \")\n",
    "    print(\"\\n\")"
   ]
  },
  {
   "cell_type": "code",
   "execution_count": null,
   "metadata": {},
   "outputs": [],
   "source": []
  }
 ],
 "metadata": {
  "kernelspec": {
   "display_name": "Python 3",
   "language": "python",
   "name": "python3"
  },
  "language_info": {
   "codemirror_mode": {
    "name": "ipython",
    "version": 3
   },
   "file_extension": ".py",
   "mimetype": "text/x-python",
   "name": "python",
   "nbconvert_exporter": "python",
   "pygments_lexer": "ipython3",
   "version": "3.7.3"
  }
 },
 "nbformat": 4,
 "nbformat_minor": 2
}
